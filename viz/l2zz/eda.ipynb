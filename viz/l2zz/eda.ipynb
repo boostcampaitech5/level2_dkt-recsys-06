{
 "cells": [
  {
   "cell_type": "markdown",
   "id": "f73780c4",
   "metadata": {},
   "source": [
    "# DKT"
   ]
  },
  {
   "cell_type": "code",
   "execution_count": 1,
   "id": "9d21f7e3",
   "metadata": {},
   "outputs": [],
   "source": [
    "\"\"\"\n",
    "    TODO:\n",
    "        - Generate timespent form timestamp.\n",
    "            timespent\n",
    "            \n",
    "        - Descritptive Stats\n",
    "            \n",
    "    COMPLETE:\n",
    "        - Process dtype conversion by dict.\n",
    "        ex.\n",
    "            u_id: category\n",
    "            a_id: category\n",
    "            t_cat: category\n",
    "            t_id: category\n",
    "            timestamp: datetime64[ns]\n",
    "            tag: category\n",
    "            answer: int64\n",
    "            \n",
    "        - Process assessment_id to a_id, t_cat, and t_id.\n",
    "            a_id  (category): assessment_id[7:]\n",
    "            t_cat (category): assessment_id[1:7][1]\n",
    "            t_id  (category): assessment_id[1:7][3:]\n",
    "\"\"\"\n",
    "pass"
   ]
  },
  {
   "cell_type": "markdown",
   "id": "c2fa5891",
   "metadata": {},
   "source": [
    "## Init"
   ]
  },
  {
   "cell_type": "code",
   "execution_count": 2,
   "id": "731dc79d",
   "metadata": {},
   "outputs": [],
   "source": [
    "import os\n",
    "import typing\n",
    "from typing import List, Tuple, Dict\n",
    "\n",
    "import numpy as np\n",
    "import pandas as pd\n",
    "import seaborn as sns\n",
    "import matplotlib.pyplot as plt\n",
    "import matplotlib.dates as md"
   ]
  },
  {
   "cell_type": "markdown",
   "id": "d7a5dbd7",
   "metadata": {},
   "source": [
    "## Constants"
   ]
  },
  {
   "cell_type": "code",
   "execution_count": 3,
   "id": "bb3daa35",
   "metadata": {},
   "outputs": [],
   "source": [
    "RENAME_COLUMNS = {\n",
    "    \"userID\": \"u_id\",\n",
    "    \"assessmentItemID\": \"assessment_id\",\n",
    "    \"testId\": \"test_id\",\n",
    "    \"answerCode\": \"answer\",\n",
    "    \"Timestamp\": \"timestamp\",\n",
    "    \"KnowledgeTag\": \"tag\",\n",
    "}\n",
    "\n",
    "TARGET_COLUMNS = [\"u_id\", \"a_id\", \"t_cat\", \"t_id\", \"timestamp\", \"tag\", \"answer\"]\n",
    "TARGET_COLUMNS_DTYPES = {\n",
    "    \"u_id\": \"category\",\n",
    "    \"a_id\": \"category\",\n",
    "    \"t_cat\": \"category\",\n",
    "    \"t_id\": \"category\",\n",
    "    \"timestamp\": \"datetime64[ns]\",\n",
    "    \"tag\": \"category\",\n",
    "    \"answer\": \"int64\",\n",
    "}\n",
    "\n",
    "RED = \"#EF7C7C\"\n",
    "BLUE = \"#3B3086\"\n",
    "GREEN = \"#5BD19A\"\n",
    "ORANGE = \"#FAE06F\""
   ]
  },
  {
   "cell_type": "markdown",
   "id": "854d6b96",
   "metadata": {},
   "source": [
    "## Utils"
   ]
  },
  {
   "cell_type": "code",
   "execution_count": 4,
   "id": "f8158a00",
   "metadata": {},
   "outputs": [],
   "source": [
    "def get_intersect_list(list1: List, list2: List) -> List:\n",
    "    \"\"\"Get the overlapped elements in two lists.\n",
    "    Args:\n",
    "        list1 (List): Target list to get overlapped elements.\n",
    "        list2 (List): Target list to get overlapped elements.\n",
    "\n",
    "    Return:\n",
    "        Result list with overlapped elements between list1 and list2.\n",
    "    \"\"\"\n",
    "    return list(set(list1) & set(list2))\n",
    "\n",
    "\n",
    "def split_assessment_id(\n",
    "    assessment_id: pd.Series,\n",
    ") -> Tuple[pd.Series, pd.Series, pd.Series]:\n",
    "    \"\"\"Split assessment_id column into a_id, t_cat, and t_id.\n",
    "    Returns:\n",
    "        a_id, t_cat, t_id (Tuple[pd.Series, pd.Series, pd.Series])\n",
    "            a_id: assessment_id[7:]\n",
    "            t_cat: assessment_id[1:7][1]\n",
    "            t_id: assessment_id[1:7][3:]\n",
    "    \"\"\"\n",
    "    a_id = assessment_id.map(lambda x: x[7:]).astype(\"category\")\n",
    "    t_cat = assessment_id.map(lambda x: x[1:7][1]).astype(\"category\")\n",
    "    t_id = assessment_id.map(lambda x: x[1:7][3:]).astype(\"category\")\n",
    "    return a_id, t_cat, t_id\n",
    "\n",
    "\n",
    "def process_columns(\n",
    "    original: pd.DataFrame,\n",
    "    target_columns: List[str],\n",
    "    target_columns_dtypes: Dict[str, str],\n",
    ") -> pd.DataFrame:\n",
    "    \"\"\"Process columns by following steps.\n",
    "    1. Generate columns according to target_columns.\n",
    "    2. Change the order of columns according to target_columns.\n",
    "    3. Change the dtypes according to target_columns_dtypes.\n",
    "    Args:\n",
    "        original (pd.DataFrame): Target dataframe to process.\n",
    "        target_columns (List[str]): Name list of target columns.\n",
    "        target_columns_dtypes (Dict[str, str]): Data type dict of target columns.\n",
    "\n",
    "    Return:\n",
    "        Dataframe fits to target_columns and target_columns_dtypes.\n",
    "    \"\"\"\n",
    "    result_df = original.copy()\n",
    "\n",
    "    if \"a_id\" in target_columns:\n",
    "        a_id, t_cat, t_id = split_assessment_id(result_df[\"assessment_id\"])\n",
    "        result_df[\"a_id\"] = a_id\n",
    "        result_df[\"t_cat\"] = t_cat\n",
    "        result_df[\"t_id\"] = t_id\n",
    "\n",
    "    result_df = result_df[target_columns]\n",
    "    result_df = result_df.astype(target_columns_dtypes)\n",
    "    return result_df"
   ]
  },
  {
   "cell_type": "markdown",
   "id": "f4ab894d",
   "metadata": {},
   "source": [
    "## Load Data"
   ]
  },
  {
   "cell_type": "code",
   "execution_count": 5,
   "id": "154fa8d8",
   "metadata": {},
   "outputs": [],
   "source": [
    "data_path = \"../data/\"\n",
    "train_path = os.path.join(data_path, \"train_data.csv\")\n",
    "test_path = os.path.join(data_path, \"test_data.csv\")\n",
    "\n",
    "train_df = pd.read_csv(train_path)\n",
    "test_df = pd.read_csv(test_path)"
   ]
  },
  {
   "cell_type": "code",
   "execution_count": 6,
   "id": "35cc4859",
   "metadata": {},
   "outputs": [
    {
     "data": {
      "text/plain": [
       "Index(['userID', 'assessmentItemID', 'testId', 'answerCode', 'Timestamp',\n",
       "       'KnowledgeTag'],\n",
       "      dtype='object')"
      ]
     },
     "execution_count": 6,
     "metadata": {},
     "output_type": "execute_result"
    }
   ],
   "source": [
    "train_df.columns"
   ]
  },
  {
   "cell_type": "code",
   "execution_count": 7,
   "id": "80605f23",
   "metadata": {},
   "outputs": [],
   "source": [
    "train_df = train_df.rename(columns=RENAME_COLUMNS)\n",
    "test_df = test_df.rename(columns=RENAME_COLUMNS)"
   ]
  },
  {
   "cell_type": "code",
   "execution_count": 8,
   "id": "1fb3537f",
   "metadata": {},
   "outputs": [
    {
     "data": {
      "text/html": [
       "<div>\n",
       "<style scoped>\n",
       "    .dataframe tbody tr th:only-of-type {\n",
       "        vertical-align: middle;\n",
       "    }\n",
       "\n",
       "    .dataframe tbody tr th {\n",
       "        vertical-align: top;\n",
       "    }\n",
       "\n",
       "    .dataframe thead th {\n",
       "        text-align: right;\n",
       "    }\n",
       "</style>\n",
       "<table border=\"1\" class=\"dataframe\">\n",
       "  <thead>\n",
       "    <tr style=\"text-align: right;\">\n",
       "      <th></th>\n",
       "      <th>u_id</th>\n",
       "      <th>assessment_id</th>\n",
       "      <th>test_id</th>\n",
       "      <th>answer</th>\n",
       "      <th>timestamp</th>\n",
       "      <th>tag</th>\n",
       "    </tr>\n",
       "  </thead>\n",
       "  <tbody>\n",
       "    <tr>\n",
       "      <th>0</th>\n",
       "      <td>0</td>\n",
       "      <td>A060001001</td>\n",
       "      <td>A060000001</td>\n",
       "      <td>1</td>\n",
       "      <td>2020-03-24 00:17:11</td>\n",
       "      <td>7224</td>\n",
       "    </tr>\n",
       "    <tr>\n",
       "      <th>1</th>\n",
       "      <td>0</td>\n",
       "      <td>A060001002</td>\n",
       "      <td>A060000001</td>\n",
       "      <td>1</td>\n",
       "      <td>2020-03-24 00:17:14</td>\n",
       "      <td>7225</td>\n",
       "    </tr>\n",
       "    <tr>\n",
       "      <th>2</th>\n",
       "      <td>0</td>\n",
       "      <td>A060001003</td>\n",
       "      <td>A060000001</td>\n",
       "      <td>1</td>\n",
       "      <td>2020-03-24 00:17:22</td>\n",
       "      <td>7225</td>\n",
       "    </tr>\n",
       "    <tr>\n",
       "      <th>3</th>\n",
       "      <td>0</td>\n",
       "      <td>A060001004</td>\n",
       "      <td>A060000001</td>\n",
       "      <td>1</td>\n",
       "      <td>2020-03-24 00:17:29</td>\n",
       "      <td>7225</td>\n",
       "    </tr>\n",
       "    <tr>\n",
       "      <th>4</th>\n",
       "      <td>0</td>\n",
       "      <td>A060001005</td>\n",
       "      <td>A060000001</td>\n",
       "      <td>1</td>\n",
       "      <td>2020-03-24 00:17:36</td>\n",
       "      <td>7225</td>\n",
       "    </tr>\n",
       "  </tbody>\n",
       "</table>\n",
       "</div>"
      ],
      "text/plain": [
       "   u_id assessment_id     test_id  answer            timestamp   tag\n",
       "0     0    A060001001  A060000001       1  2020-03-24 00:17:11  7224\n",
       "1     0    A060001002  A060000001       1  2020-03-24 00:17:14  7225\n",
       "2     0    A060001003  A060000001       1  2020-03-24 00:17:22  7225\n",
       "3     0    A060001004  A060000001       1  2020-03-24 00:17:29  7225\n",
       "4     0    A060001005  A060000001       1  2020-03-24 00:17:36  7225"
      ]
     },
     "execution_count": 8,
     "metadata": {},
     "output_type": "execute_result"
    }
   ],
   "source": [
    "train_df.head()"
   ]
  },
  {
   "cell_type": "code",
   "execution_count": 9,
   "id": "314eef69",
   "metadata": {},
   "outputs": [
    {
     "data": {
      "text/html": [
       "<div>\n",
       "<style scoped>\n",
       "    .dataframe tbody tr th:only-of-type {\n",
       "        vertical-align: middle;\n",
       "    }\n",
       "\n",
       "    .dataframe tbody tr th {\n",
       "        vertical-align: top;\n",
       "    }\n",
       "\n",
       "    .dataframe thead th {\n",
       "        text-align: right;\n",
       "    }\n",
       "</style>\n",
       "<table border=\"1\" class=\"dataframe\">\n",
       "  <thead>\n",
       "    <tr style=\"text-align: right;\">\n",
       "      <th></th>\n",
       "      <th>u_id</th>\n",
       "      <th>assessment_id</th>\n",
       "      <th>test_id</th>\n",
       "      <th>answer</th>\n",
       "      <th>timestamp</th>\n",
       "      <th>tag</th>\n",
       "    </tr>\n",
       "  </thead>\n",
       "  <tbody>\n",
       "    <tr>\n",
       "      <th>0</th>\n",
       "      <td>3</td>\n",
       "      <td>A050023001</td>\n",
       "      <td>A050000023</td>\n",
       "      <td>1</td>\n",
       "      <td>2020-01-09 10:56:31</td>\n",
       "      <td>2626</td>\n",
       "    </tr>\n",
       "    <tr>\n",
       "      <th>1</th>\n",
       "      <td>3</td>\n",
       "      <td>A050023002</td>\n",
       "      <td>A050000023</td>\n",
       "      <td>1</td>\n",
       "      <td>2020-01-09 10:56:57</td>\n",
       "      <td>2626</td>\n",
       "    </tr>\n",
       "    <tr>\n",
       "      <th>2</th>\n",
       "      <td>3</td>\n",
       "      <td>A050023003</td>\n",
       "      <td>A050000023</td>\n",
       "      <td>0</td>\n",
       "      <td>2020-01-09 10:58:31</td>\n",
       "      <td>2625</td>\n",
       "    </tr>\n",
       "    <tr>\n",
       "      <th>3</th>\n",
       "      <td>3</td>\n",
       "      <td>A050023004</td>\n",
       "      <td>A050000023</td>\n",
       "      <td>0</td>\n",
       "      <td>2020-01-09 10:58:36</td>\n",
       "      <td>2625</td>\n",
       "    </tr>\n",
       "    <tr>\n",
       "      <th>4</th>\n",
       "      <td>3</td>\n",
       "      <td>A050023006</td>\n",
       "      <td>A050000023</td>\n",
       "      <td>0</td>\n",
       "      <td>2020-01-09 10:58:43</td>\n",
       "      <td>2623</td>\n",
       "    </tr>\n",
       "  </tbody>\n",
       "</table>\n",
       "</div>"
      ],
      "text/plain": [
       "   u_id assessment_id     test_id  answer            timestamp   tag\n",
       "0     3    A050023001  A050000023       1  2020-01-09 10:56:31  2626\n",
       "1     3    A050023002  A050000023       1  2020-01-09 10:56:57  2626\n",
       "2     3    A050023003  A050000023       0  2020-01-09 10:58:31  2625\n",
       "3     3    A050023004  A050000023       0  2020-01-09 10:58:36  2625\n",
       "4     3    A050023006  A050000023       0  2020-01-09 10:58:43  2623"
      ]
     },
     "execution_count": 9,
     "metadata": {},
     "output_type": "execute_result"
    }
   ],
   "source": [
    "test_df.head()"
   ]
  },
  {
   "cell_type": "markdown",
   "id": "9c699658",
   "metadata": {},
   "source": [
    "## Single Column"
   ]
  },
  {
   "cell_type": "markdown",
   "id": "370336fd",
   "metadata": {},
   "source": [
    "### u_id"
   ]
  },
  {
   "cell_type": "code",
   "execution_count": 10,
   "id": "dcaeb107",
   "metadata": {},
   "outputs": [
    {
     "data": {
      "text/plain": [
       "0    0\n",
       "1    0\n",
       "2    0\n",
       "3    0\n",
       "4    0\n",
       "Name: u_id, dtype: int64"
      ]
     },
     "execution_count": 10,
     "metadata": {},
     "output_type": "execute_result"
    }
   ],
   "source": [
    "train_df[\"u_id\"].head()"
   ]
  },
  {
   "cell_type": "code",
   "execution_count": 11,
   "id": "27931a34",
   "metadata": {},
   "outputs": [
    {
     "data": {
      "text/plain": [
       "dtype('int64')"
      ]
     },
     "execution_count": 11,
     "metadata": {},
     "output_type": "execute_result"
    }
   ],
   "source": [
    "train_df[\"u_id\"].dtype"
   ]
  },
  {
   "cell_type": "code",
   "execution_count": 12,
   "id": "d2b0980d",
   "metadata": {},
   "outputs": [
    {
     "data": {
      "text/plain": [
       "6698"
      ]
     },
     "execution_count": 12,
     "metadata": {},
     "output_type": "execute_result"
    }
   ],
   "source": [
    "train_df[\"u_id\"].nunique()"
   ]
  },
  {
   "cell_type": "code",
   "execution_count": 13,
   "id": "bc578eed",
   "metadata": {},
   "outputs": [
    {
     "data": {
      "text/plain": [
       "744"
      ]
     },
     "execution_count": 13,
     "metadata": {},
     "output_type": "execute_result"
    }
   ],
   "source": [
    "test_df[\"u_id\"].nunique()"
   ]
  },
  {
   "cell_type": "code",
   "execution_count": 14,
   "id": "71d99f1e",
   "metadata": {},
   "outputs": [
    {
     "data": {
      "text/plain": [
       "0"
      ]
     },
     "execution_count": 14,
     "metadata": {},
     "output_type": "execute_result"
    }
   ],
   "source": [
    "# No one overlaps in both train and test.\n",
    "len(get_intersect_list(train_df[\"u_id\"].unique(), test_df[\"u_id\"].unique()))"
   ]
  },
  {
   "cell_type": "markdown",
   "id": "55e54eb2",
   "metadata": {},
   "source": [
    "### assessment_id"
   ]
  },
  {
   "cell_type": "code",
   "execution_count": 15,
   "id": "6f59a8b8",
   "metadata": {},
   "outputs": [
    {
     "data": {
      "text/plain": [
       "0    A060001001\n",
       "1    A060001002\n",
       "2    A060001003\n",
       "3    A060001004\n",
       "4    A060001005\n",
       "Name: assessment_id, dtype: object"
      ]
     },
     "execution_count": 15,
     "metadata": {},
     "output_type": "execute_result"
    }
   ],
   "source": [
    "train_df[\"assessment_id\"].head()"
   ]
  },
  {
   "cell_type": "code",
   "execution_count": 16,
   "id": "66a995f9",
   "metadata": {},
   "outputs": [],
   "source": [
    "aid_0 = train_df[\"assessment_id\"].map(lambda x: x[0]).rename(\"aid0\")\n",
    "aid_1to6 = train_df[\"assessment_id\"].map(lambda x: x[1:7]).rename(\"aid_1to6\")\n",
    "aid_7to9 = train_df[\"assessment_id\"].map(lambda x: x[7:10]).rename(\"aid_7to9\")"
   ]
  },
  {
   "cell_type": "code",
   "execution_count": 17,
   "id": "f4744642",
   "metadata": {},
   "outputs": [
    {
     "data": {
      "text/plain": [
       "aid0\n",
       "A    2266586\n",
       "Name: count, dtype: int64"
      ]
     },
     "execution_count": 17,
     "metadata": {},
     "output_type": "execute_result"
    }
   ],
   "source": [
    "aid_0.value_counts()"
   ]
  },
  {
   "cell_type": "code",
   "execution_count": 18,
   "id": "86fb497d",
   "metadata": {},
   "outputs": [
    {
     "data": {
      "text/plain": [
       "0          060001\n",
       "1          060001\n",
       "2          060001\n",
       "3          060001\n",
       "4          060001\n",
       "            ...  \n",
       "2266581    030071\n",
       "2266582    040165\n",
       "2266583    040165\n",
       "2266584    040165\n",
       "2266585    040165\n",
       "Name: aid_1to6, Length: 2266586, dtype: object"
      ]
     },
     "execution_count": 18,
     "metadata": {},
     "output_type": "execute_result"
    }
   ],
   "source": [
    "aid_1to6"
   ]
  },
  {
   "cell_type": "code",
   "execution_count": 19,
   "id": "3336e1e5",
   "metadata": {},
   "outputs": [
    {
     "data": {
      "text/plain": [
       "aid_1to6\n",
       "080128    3960\n",
       "080131    3640\n",
       "090015    3624\n",
       "090011    3616\n",
       "090009    3616\n",
       "          ... \n",
       "030186     180\n",
       "010166     176\n",
       "010178     176\n",
       "010181     176\n",
       "010179     172\n",
       "Name: count, Length: 1537, dtype: int64"
      ]
     },
     "execution_count": 19,
     "metadata": {},
     "output_type": "execute_result"
    }
   ],
   "source": [
    "# There are 1537 test numbers.\n",
    "aid_1to6.value_counts()"
   ]
  },
  {
   "cell_type": "code",
   "execution_count": 20,
   "id": "d697af67",
   "metadata": {},
   "outputs": [
    {
     "data": {
      "text/plain": [
       "<matplotlib.lines.Line2D at 0x7fa42eb0c370>"
      ]
     },
     "execution_count": 20,
     "metadata": {},
     "output_type": "execute_result"
    },
    {
     "data": {
      "image/png": "[encoded data removed]",
      "text/plain": [
       "<Figure size 640x480 with 1 Axes>"
      ]
     },
     "metadata": {},
     "output_type": "display_data"
    }
   ],
   "source": [
    "# The number of each test number exists around 1500.\n",
    "# The number of each test number is right skewed.\n",
    "aid_1to6_counts = aid_1to6.value_counts()\n",
    "sns.histplot(data=aid_1to6_counts, linewidth=0.5, bins=40, color=BLUE)\n",
    "plt.axvline(aid_1to6_counts.median(), color=RED)\n",
    "plt.axvline(aid_1to6_counts.mean(), color=ORANGE)"
   ]
  },
  {
   "cell_type": "code",
   "execution_count": 21,
   "id": "0c7ac172",
   "metadata": {},
   "outputs": [
    {
     "name": "stdout",
     "output_type": "stream",
     "text": [
      "aid_7to9\n",
      "001    371755\n",
      "003    371640\n",
      "002    370972\n",
      "004    369705\n",
      "005    360607\n",
      "006    197772\n",
      "007    127121\n",
      "008     67150\n",
      "009     18417\n",
      "010      5342\n",
      "011      3352\n",
      "012      2484\n",
      "013       269\n",
      "Name: count, dtype: int64\n"
     ]
    },
    {
     "data": {
      "text/plain": [
       "<Axes: xlabel='aid_7to9', ylabel='Count'>"
      ]
     },
     "execution_count": 21,
     "metadata": {},
     "output_type": "execute_result"
    },
    {
     "data": {
      "image/png": "[encoded data removed]",
      "text/plain": [
       "<Figure size 640x480 with 1 Axes>"
      ]
     },
     "metadata": {},
     "output_type": "display_data"
    }
   ],
   "source": [
    "# Question number is in range [1, 13].\n",
    "# The number of big numbers is less than small numbers'.\n",
    "print(aid_7to9.value_counts())\n",
    "aid_7to9_cat = aid_7to9.astype(\"category\").sort_index()\n",
    "sns.histplot(aid_7to9_cat, linewidth=0.5, shrink=0.7, color=BLUE)"
   ]
  },
  {
   "cell_type": "code",
   "execution_count": 22,
   "id": "ded77e45",
   "metadata": {},
   "outputs": [
    {
     "data": {
      "text/plain": [
       "dtype('O')"
      ]
     },
     "execution_count": 22,
     "metadata": {},
     "output_type": "execute_result"
    }
   ],
   "source": [
    "train_df[\"assessment_id\"].dtype"
   ]
  },
  {
   "cell_type": "code",
   "execution_count": 23,
   "id": "25894fee",
   "metadata": {},
   "outputs": [
    {
     "data": {
      "text/plain": [
       "9454"
      ]
     },
     "execution_count": 23,
     "metadata": {},
     "output_type": "execute_result"
    }
   ],
   "source": [
    "train_df[\"assessment_id\"].nunique()"
   ]
  },
  {
   "cell_type": "markdown",
   "id": "21a4bd06",
   "metadata": {},
   "source": [
    "### test_id"
   ]
  },
  {
   "cell_type": "code",
   "execution_count": 24,
   "id": "e6d0340c",
   "metadata": {},
   "outputs": [
    {
     "data": {
      "text/plain": [
       "0    A060000001\n",
       "1    A060000001\n",
       "2    A060000001\n",
       "3    A060000001\n",
       "4    A060000001\n",
       "Name: test_id, dtype: object"
      ]
     },
     "execution_count": 24,
     "metadata": {},
     "output_type": "execute_result"
    }
   ],
   "source": [
    "train_df[\"test_id\"].head()"
   ]
  },
  {
   "cell_type": "code",
   "execution_count": 25,
   "id": "6b159490",
   "metadata": {},
   "outputs": [
    {
     "data": {
      "text/plain": [
       "dtype('O')"
      ]
     },
     "execution_count": 25,
     "metadata": {},
     "output_type": "execute_result"
    }
   ],
   "source": [
    "train_df[\"test_id\"].dtype"
   ]
  },
  {
   "cell_type": "code",
   "execution_count": 26,
   "id": "86c7ceec",
   "metadata": {},
   "outputs": [
    {
     "data": {
      "text/plain": [
       "1537"
      ]
     },
     "execution_count": 26,
     "metadata": {},
     "output_type": "execute_result"
    }
   ],
   "source": [
    "train_df[\"test_id\"].nunique()"
   ]
  },
  {
   "cell_type": "code",
   "execution_count": 27,
   "id": "9610a7c3",
   "metadata": {},
   "outputs": [
    {
     "data": {
      "text/plain": [
       "0          060001\n",
       "1          060001\n",
       "2          060001\n",
       "3          060001\n",
       "4          060001\n",
       "            ...  \n",
       "2266581    030071\n",
       "2266582    040165\n",
       "2266583    040165\n",
       "2266584    040165\n",
       "2266585    040165\n",
       "Name: tid_, Length: 2266586, dtype: object"
      ]
     },
     "execution_count": 27,
     "metadata": {},
     "output_type": "execute_result"
    }
   ],
   "source": [
    "# Same as aID_1to6 >> ** Can be removed **\n",
    "tid_ = train_df[\"test_id\"].map(lambda x: x[1:4] + x[-3:]).rename(\"tid_\")\n",
    "tid_"
   ]
  },
  {
   "cell_type": "code",
   "execution_count": 28,
   "id": "0823819a",
   "metadata": {},
   "outputs": [],
   "source": [
    "t_cat = tid_.map(lambda x: x[1]).rename(\"t_cat\").astype(\"category\")\n",
    "t_id = tid_.map(lambda x: x[3:7]).rename(\"t_id\").astype(\"category\")"
   ]
  },
  {
   "cell_type": "code",
   "execution_count": 29,
   "id": "0c84c91f",
   "metadata": {},
   "outputs": [
    {
     "data": {
      "text/plain": [
       "0          6\n",
       "1          6\n",
       "2          6\n",
       "3          6\n",
       "4          6\n",
       "          ..\n",
       "2266581    3\n",
       "2266582    4\n",
       "2266583    4\n",
       "2266584    4\n",
       "2266585    4\n",
       "Name: t_cat, Length: 2266586, dtype: category\n",
       "Categories (9, object): ['1', '2', '3', '4', ..., '6', '7', '8', '9']"
      ]
     },
     "execution_count": 29,
     "metadata": {},
     "output_type": "execute_result"
    }
   ],
   "source": [
    "t_cat"
   ]
  },
  {
   "cell_type": "code",
   "execution_count": 30,
   "id": "edeb4fe1",
   "metadata": {},
   "outputs": [
    {
     "name": "stdout",
     "output_type": "stream",
     "text": [
      "t_cat\n",
      "7    279164\n",
      "5    275773\n",
      "3    273762\n",
      "1    272082\n",
      "2    268327\n",
      "4    267323\n",
      "6    264434\n",
      "8    246336\n",
      "9    119385\n",
      "Name: count, dtype: int64\n"
     ]
    },
    {
     "data": {
      "text/plain": [
       "<Axes: xlabel='t_cat', ylabel='Count'>"
      ]
     },
     "execution_count": 30,
     "metadata": {},
     "output_type": "execute_result"
    },
    {
     "data": {
      "image/png": "[encoded data removed]",
      "text/plain": [
       "<Figure size 640x480 with 1 Axes>"
      ]
     },
     "metadata": {},
     "output_type": "display_data"
    }
   ],
   "source": [
    "# The number of categories are similar except category 9.\n",
    "print(t_cat.value_counts())\n",
    "sns.histplot(t_cat, linewidth=0.5, shrink=0.7, color=BLUE)"
   ]
  },
  {
   "cell_type": "code",
   "execution_count": 31,
   "id": "63338104",
   "metadata": {},
   "outputs": [
    {
     "data": {
      "text/plain": [
       "0          001\n",
       "1          001\n",
       "2          001\n",
       "3          001\n",
       "4          001\n",
       "          ... \n",
       "2266581    071\n",
       "2266582    165\n",
       "2266583    165\n",
       "2266584    165\n",
       "2266585    165\n",
       "Name: t_id, Length: 2266586, dtype: category\n",
       "Categories (198, object): ['001', '002', '003', '004', ..., '195', '196', '197', '198']"
      ]
     },
     "execution_count": 31,
     "metadata": {},
     "output_type": "execute_result"
    }
   ],
   "source": [
    "t_id"
   ]
  },
  {
   "cell_type": "code",
   "execution_count": 32,
   "id": "2807bd2f",
   "metadata": {},
   "outputs": [
    {
     "name": "stdout",
     "output_type": "stream",
     "text": [
      "t_id\n",
      "017    17739\n",
      "009    17555\n",
      "011    17029\n",
      "003    16970\n",
      "007    16826\n",
      "       ...  \n",
      "180     3767\n",
      "197     2973\n",
      "194     2596\n",
      "196     1304\n",
      "198      951\n",
      "Name: count, Length: 198, dtype: int64\n"
     ]
    },
    {
     "data": {
      "image/png": "[encoded data removed]",
      "text/plain": [
       "<Figure size 640x480 with 1 Axes>"
      ]
     },
     "metadata": {},
     "output_type": "display_data"
    }
   ],
   "source": [
    "# Ther larger Test ID is generally less than smaller one.\n",
    "print(t_id.value_counts())\n",
    "sns.histplot(t_id, linewidth=0.5, color=BLUE).set(xticklabels=[])\n",
    "plt.show()"
   ]
  },
  {
   "cell_type": "code",
   "execution_count": 33,
   "id": "f06ea2ba",
   "metadata": {},
   "outputs": [
    {
     "data": {
      "text/plain": [
       "<matplotlib.lines.Line2D at 0x7fa42c967f70>"
      ]
     },
     "execution_count": 33,
     "metadata": {},
     "output_type": "execute_result"
    },
    {
     "data": {
      "image/png": "[encoded data removed]",
      "text/plain": [
       "<Figure size 640x480 with 1 Axes>"
      ]
     },
     "metadata": {},
     "output_type": "display_data"
    }
   ],
   "source": [
    "# The number of each test ID exists around 1500.\n",
    "# The number of each test ID is left skewed.\n",
    "sns.histplot(t_id.value_counts(), bins=40, linewidth=0.5, color=BLUE)\n",
    "plt.axvline(t_id.value_counts().median(), color=RED)\n",
    "plt.axvline(t_id.value_counts().mean(), color=ORANGE)"
   ]
  },
  {
   "cell_type": "markdown",
   "id": "a9291015",
   "metadata": {},
   "source": [
    "### answer"
   ]
  },
  {
   "cell_type": "code",
   "execution_count": 34,
   "id": "86e9d259",
   "metadata": {},
   "outputs": [
    {
     "data": {
      "text/plain": [
       "answer\n",
       "1    0.654378\n",
       "0    0.345622\n",
       "Name: proportion, dtype: float64"
      ]
     },
     "execution_count": 34,
     "metadata": {},
     "output_type": "execute_result"
    }
   ],
   "source": [
    "# 65% answers are correct and the others(35%) are incorrect.\n",
    "train_df[\"answer\"].value_counts(normalize=True)"
   ]
  },
  {
   "cell_type": "code",
   "execution_count": 35,
   "id": "9b756c4c",
   "metadata": {},
   "outputs": [
    {
     "data": {
      "text/plain": [
       "dtype('int64')"
      ]
     },
     "execution_count": 35,
     "metadata": {},
     "output_type": "execute_result"
    }
   ],
   "source": [
    "train_df[\"answer\"].dtype"
   ]
  },
  {
   "cell_type": "markdown",
   "id": "7d10a457",
   "metadata": {},
   "source": [
    "### timestamp"
   ]
  },
  {
   "cell_type": "code",
   "execution_count": 36,
   "id": "ba3fd645",
   "metadata": {},
   "outputs": [
    {
     "data": {
      "text/plain": [
       "0    2020-03-24 00:17:11\n",
       "1    2020-03-24 00:17:14\n",
       "2    2020-03-24 00:17:22\n",
       "3    2020-03-24 00:17:29\n",
       "4    2020-03-24 00:17:36\n",
       "Name: timestamp, dtype: object"
      ]
     },
     "execution_count": 36,
     "metadata": {},
     "output_type": "execute_result"
    }
   ],
   "source": [
    "train_df[\"timestamp\"].head()"
   ]
  },
  {
   "cell_type": "code",
   "execution_count": 37,
   "id": "9ca137e8",
   "metadata": {},
   "outputs": [
    {
     "data": {
      "text/plain": [
       "0   2020-03-24 00:17:11\n",
       "1   2020-03-24 00:17:14\n",
       "2   2020-03-24 00:17:22\n",
       "3   2020-03-24 00:17:29\n",
       "4   2020-03-24 00:17:36\n",
       "Name: timestamp, dtype: datetime64[ns]"
      ]
     },
     "execution_count": 37,
     "metadata": {},
     "output_type": "execute_result"
    }
   ],
   "source": [
    "train_df[\"timestamp\"] = pd.to_datetime(train_df[\"timestamp\"])\n",
    "train_df[\"timestamp\"].head()"
   ]
  },
  {
   "cell_type": "markdown",
   "id": "f330d8b2",
   "metadata": {},
   "source": [
    "### tag"
   ]
  },
  {
   "cell_type": "code",
   "execution_count": 38,
   "id": "cb2bb2b5",
   "metadata": {},
   "outputs": [
    {
     "data": {
      "text/plain": [
       "0    7224\n",
       "1    7225\n",
       "2    7225\n",
       "3    7225\n",
       "4    7225\n",
       "Name: tag, dtype: int64"
      ]
     },
     "execution_count": 38,
     "metadata": {},
     "output_type": "execute_result"
    }
   ],
   "source": [
    "train_df[\"tag\"].head()"
   ]
  },
  {
   "cell_type": "code",
   "execution_count": 39,
   "id": "b3d821fb",
   "metadata": {},
   "outputs": [
    {
     "name": "stdout",
     "output_type": "stream",
     "text": [
      "tag\n",
      "7597    12892\n",
      "7600    10734\n",
      "2010    10176\n",
      "7621     9709\n",
      "8127     9006\n",
      "        ...  \n",
      "5142       47\n",
      "2871       46\n",
      "4978       46\n",
      "7125       45\n",
      "2613       44\n",
      "Name: count, Length: 912, dtype: int64\n"
     ]
    },
    {
     "data": {
      "text/plain": [
       "<Axes: xlabel='tag', ylabel='Count'>"
      ]
     },
     "execution_count": 39,
     "metadata": {},
     "output_type": "execute_result"
    },
    {
     "data": {
      "image/png": "[encoded data removed]",
      "text/plain": [
       "<Figure size 640x480 with 1 Axes>"
      ]
     },
     "metadata": {},
     "output_type": "display_data"
    }
   ],
   "source": [
    "print(train_df[\"tag\"].value_counts())\n",
    "sns.histplot(train_df[\"tag\"], bins=40, linewidth=0.5, color=BLUE)"
   ]
  },
  {
   "cell_type": "code",
   "execution_count": 40,
   "id": "32c0df60",
   "metadata": {},
   "outputs": [
    {
     "data": {
      "text/plain": [
       "<matplotlib.lines.Line2D at 0x7fa4235d6370>"
      ]
     },
     "execution_count": 40,
     "metadata": {},
     "output_type": "execute_result"
    },
    {
     "data": {
      "image/png": "[encoded data removed]",
      "text/plain": [
       "<Figure size 640x480 with 1 Axes>"
      ]
     },
     "metadata": {},
     "output_type": "display_data"
    }
   ],
   "source": [
    "# The number of each tag exists around 2000.\n",
    "# The number of each tag is right skewed.\n",
    "# Less than 1000 and around 4000 are dominants.\n",
    "sns.histplot(train_df[\"tag\"].value_counts(), bins=40, linewidth=0.5, color=BLUE)\n",
    "plt.axvline(train_df[\"tag\"].value_counts().median(), color=RED)\n",
    "plt.axvline(train_df[\"tag\"].value_counts().mean(), color=ORANGE)"
   ]
  },
  {
   "cell_type": "code",
   "execution_count": 41,
   "id": "e9d282ff",
   "metadata": {},
   "outputs": [],
   "source": [
    "train_df = pd.read_csv(train_path).rename(columns=RENAME_COLUMNS)"
   ]
  },
  {
   "cell_type": "code",
   "execution_count": 42,
   "id": "4819beb5",
   "metadata": {},
   "outputs": [
    {
     "name": "stdout",
     "output_type": "stream",
     "text": [
      "<class 'pandas.core.frame.DataFrame'>\n",
      "RangeIndex: 2266586 entries, 0 to 2266585\n",
      "Data columns (total 7 columns):\n",
      " #   Column     Dtype         \n",
      "---  ------     -----         \n",
      " 0   u_id       category      \n",
      " 1   a_id       category      \n",
      " 2   t_cat      category      \n",
      " 3   t_id       category      \n",
      " 4   timestamp  datetime64[ns]\n",
      " 5   tag        category      \n",
      " 6   answer     int64         \n",
      "dtypes: category(5), datetime64[ns](1), int64(1)\n",
      "memory usage: 52.2 MB\n",
      "None\n"
     ]
    },
    {
     "data": {
      "text/html": [
       "<div>\n",
       "<style scoped>\n",
       "    .dataframe tbody tr th:only-of-type {\n",
       "        vertical-align: middle;\n",
       "    }\n",
       "\n",
       "    .dataframe tbody tr th {\n",
       "        vertical-align: top;\n",
       "    }\n",
       "\n",
       "    .dataframe thead th {\n",
       "        text-align: right;\n",
       "    }\n",
       "</style>\n",
       "<table border=\"1\" class=\"dataframe\">\n",
       "  <thead>\n",
       "    <tr style=\"text-align: right;\">\n",
       "      <th></th>\n",
       "      <th>u_id</th>\n",
       "      <th>a_id</th>\n",
       "      <th>t_cat</th>\n",
       "      <th>t_id</th>\n",
       "      <th>timestamp</th>\n",
       "      <th>tag</th>\n",
       "      <th>answer</th>\n",
       "    </tr>\n",
       "  </thead>\n",
       "  <tbody>\n",
       "    <tr>\n",
       "      <th>0</th>\n",
       "      <td>0</td>\n",
       "      <td>001</td>\n",
       "      <td>6</td>\n",
       "      <td>001</td>\n",
       "      <td>2020-03-24 00:17:11</td>\n",
       "      <td>7224</td>\n",
       "      <td>1</td>\n",
       "    </tr>\n",
       "    <tr>\n",
       "      <th>1</th>\n",
       "      <td>0</td>\n",
       "      <td>002</td>\n",
       "      <td>6</td>\n",
       "      <td>001</td>\n",
       "      <td>2020-03-24 00:17:14</td>\n",
       "      <td>7225</td>\n",
       "      <td>1</td>\n",
       "    </tr>\n",
       "    <tr>\n",
       "      <th>2</th>\n",
       "      <td>0</td>\n",
       "      <td>003</td>\n",
       "      <td>6</td>\n",
       "      <td>001</td>\n",
       "      <td>2020-03-24 00:17:22</td>\n",
       "      <td>7225</td>\n",
       "      <td>1</td>\n",
       "    </tr>\n",
       "    <tr>\n",
       "      <th>3</th>\n",
       "      <td>0</td>\n",
       "      <td>004</td>\n",
       "      <td>6</td>\n",
       "      <td>001</td>\n",
       "      <td>2020-03-24 00:17:29</td>\n",
       "      <td>7225</td>\n",
       "      <td>1</td>\n",
       "    </tr>\n",
       "    <tr>\n",
       "      <th>4</th>\n",
       "      <td>0</td>\n",
       "      <td>005</td>\n",
       "      <td>6</td>\n",
       "      <td>001</td>\n",
       "      <td>2020-03-24 00:17:36</td>\n",
       "      <td>7225</td>\n",
       "      <td>1</td>\n",
       "    </tr>\n",
       "  </tbody>\n",
       "</table>\n",
       "</div>"
      ],
      "text/plain": [
       "  u_id a_id t_cat t_id           timestamp   tag  answer\n",
       "0    0  001     6  001 2020-03-24 00:17:11  7224       1\n",
       "1    0  002     6  001 2020-03-24 00:17:14  7225       1\n",
       "2    0  003     6  001 2020-03-24 00:17:22  7225       1\n",
       "3    0  004     6  001 2020-03-24 00:17:29  7225       1\n",
       "4    0  005     6  001 2020-03-24 00:17:36  7225       1"
      ]
     },
     "execution_count": 42,
     "metadata": {},
     "output_type": "execute_result"
    }
   ],
   "source": [
    "processed_df = process_columns(train_df, TARGET_COLUMNS, TARGET_COLUMNS_DTYPES)\n",
    "print(processed_df.info())\n",
    "processed_df.head()"
   ]
  },
  {
   "cell_type": "markdown",
   "id": "d07c61b5",
   "metadata": {},
   "source": [
    "## Descriptive Stats"
   ]
  },
  {
   "cell_type": "code",
   "execution_count": null,
   "id": "062877c1",
   "metadata": {},
   "outputs": [],
   "source": []
  }
 ],
 "metadata": {
  "kernelspec": {
   "display_name": "Python 3 (ipykernel)",
   "language": "python",
   "name": "python3"
  },
  "language_info": {
   "codemirror_mode": {
    "name": "ipython",
    "version": 3
   },
   "file_extension": ".py",
   "mimetype": "text/x-python",
   "name": "python",
   "nbconvert_exporter": "python",
   "pygments_lexer": "ipython3",
   "version": "3.8.5"
  }
 },
 "nbformat": 4,
 "nbformat_minor": 5
}
